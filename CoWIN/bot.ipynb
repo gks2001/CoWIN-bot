{
 "cells": [
  {
   "cell_type": "code",
   "execution_count": null,
   "metadata": {},
   "outputs": [],
   "source": [
    "# !pip install fake-useragent"
   ]
  },
  {
   "cell_type": "code",
   "execution_count": null,
   "metadata": {},
   "outputs": [],
   "source": [
    "# !pip install python-telegram-bot"
   ]
  },
  {
   "cell_type": "code",
   "execution_count": null,
   "metadata": {},
   "outputs": [],
   "source": [
    "import requests\n",
    "import datetime\n",
    "import json\n",
    "from fake_useragent import UserAgent\n",
    "from datetime import date\n",
    "import time\n",
    "from IPython.display import clear_output\n",
    "import csv\n",
    "from datetime import datetime"
   ]
  },
  {
   "cell_type": "code",
   "execution_count": null,
   "metadata": {},
   "outputs": [],
   "source": [
    "user_agent = UserAgent()\n",
    "browser_header = {'User-Agent': user_agent.random}"
   ]
  },
  {
   "cell_type": "code",
   "execution_count": null,
   "metadata": {},
   "outputs": [],
   "source": [
    "def getdata(pincode):\n",
    "    res = []\n",
    "    arr = []\n",
    "    today = date.today()\n",
    "    formatted_date = today.strftime(\"%d-%m-%Y\")\n",
    "    district = 571\n",
    "    age = 20\n",
    "    URL = \"https://cdn-api.co-vin.in/api/v2/appointment/sessions/public/calendarByDistrict?district_id={}&date={}\".format(district, formatted_date)\n",
    "    response = requests.get(URL, headers=browser_header)\n",
    "    if response.ok:\n",
    "        resp_json = response.json()\n",
    "        for center in resp_json[\"centers\"]:\n",
    "            for session in center[\"sessions\"]:\n",
    "                if session[\"min_age_limit\"] <= age and session[\"vaccine\"] == \"COVAXIN\":\n",
    "                    tem = []\n",
    "                    t = abs(pincode - center[\"pincode\"])\n",
    "                    tem.append(t)\n",
    "                    tem.append(center[\"name\"])\n",
    "                    tem.append(center[\"block_name\"])\n",
    "                    tem.append(center[\"fee_type\"])\n",
    "                    tem.append(session[\"available_capacity_dose1\"])\n",
    "                    if(session[\"vaccine\"] != ''):\n",
    "                        tem.append(session[\"vaccine\"])\n",
    "                    arr.append(tem)\n",
    "        arr.sort(key = lambda x: int(x[0]))\n",
    "        for i in range (0, len(arr)):\n",
    "            arr[i] = arr[i][1:]\n",
    "        for i in range (0, len(arr)):\n",
    "            if arr[i][3] > 0:\n",
    "                res.append(arr[i])\n",
    "    else:\n",
    "        print(\"No response\")\n",
    "        \n",
    "    for i in res:\n",
    "        with open(\"d:\\Desktop\\CoWIN\\log.csv\", 'a', newline='') as file:\n",
    "            sys_time = datetime.now()\n",
    "            sys_time = sys_time.strftime(\"%H:%M:%S\")\n",
    "            writer = csv.writer(file)\n",
    "            writer.writerow([formatted_date] + [sys_time] + i)\n",
    "            \n",
    "    return res"
   ]
  },
  {
   "cell_type": "code",
   "execution_count": null,
   "metadata": {
    "scrolled": false
   },
   "outputs": [],
   "source": [
    "from telegram import *\n",
    "from telegram.ext import *\n",
    "pincode = 600096\n",
    "cowin_bot = Bot(\"1876736163:AAE69-BYwysokA7PyJM8KFGsvR7lr_KhIdA\")\n",
    "updater = Updater(\"1876736163:AAE69-BYwysokA7PyJM8KFGsvR7lr_KhIdA\", use_context = True)\n",
    "dispatcher = updater.dispatcher\n",
    "def func(update:Update, context:CallbackContext):\n",
    "    while True:\n",
    "        array = getdata(pincode)\n",
    "        for i in array:\n",
    "            string = 'Name: ' + str(i[0]) + '\\nArea: ' + str(i[1]) + '\\nFee: ' + str(i[2]) + '\\nDose 1 availability: ' + str(i[3]) + '\\nVaccine: ' + str(i[4])\n",
    "            cowin_bot.send_message(chat_id=update.effective_chat.id, text = string)\n",
    "        time.sleep(15)\n",
    "\n",
    "start_value = CommandHandler('covaxin', func)\n",
    "dispatcher.add_handler(start_value)\n",
    "updater.start_polling()"
   ]
  },
  {
   "cell_type": "code",
   "execution_count": null,
   "metadata": {},
   "outputs": [],
   "source": [
    "# # pincode = 600096\n",
    "# array = getdata(pincode)\n",
    "# print(array)"
   ]
  },
  {
   "cell_type": "code",
   "execution_count": null,
   "metadata": {},
   "outputs": [],
   "source": []
  }
 ],
 "metadata": {
  "kernelspec": {
   "display_name": "Python 3",
   "language": "python",
   "name": "python3"
  },
  "language_info": {
   "codemirror_mode": {
    "name": "ipython",
    "version": 3
   },
   "file_extension": ".py",
   "mimetype": "text/x-python",
   "name": "python",
   "nbconvert_exporter": "python",
   "pygments_lexer": "ipython3",
   "version": "3.8.5"
  }
 },
 "nbformat": 4,
 "nbformat_minor": 4
}
